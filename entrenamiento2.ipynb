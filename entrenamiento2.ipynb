{
  "cells": [
    {
      "cell_type": "code",
      "execution_count": 3,
      "metadata": {
        "id": "q6CIK4_0uduJ"
      },
      "outputs": [],
      "source": [
        "import numpy as np\n",
        "import pandas as pd\n",
        "\n",
        "from sklearn.linear_model import Ridge\n",
        "\n",
        "from sklearn.metrics import mean_squared_error , mean_absolute_error\n",
        "from sklearn.model_selection import cross_val_score, cross_val_predict , KFold,GridSearchCV\n",
        "\n",
        "from sklearn.pipeline import Pipeline\n",
        "from sklearn.compose import TransformedTargetRegressor\n",
        "\n",
        "from sklearn import preprocessing\n",
        "from sklearn.preprocessing import StandardScaler, OneHotEncoder\n",
        "\n",
        "import joblib\n",
        "import matplotlib.pyplot as plt"
      ]
    },
    {
      "cell_type": "code",
      "execution_count": 4,
      "metadata": {
        "id": "ewQ_AdQMunez"
      },
      "outputs": [],
      "source": [
        "df_casas = pd.read_csv('limpio.csv')\n",
        "\n"
      ]
    },
    {
      "cell_type": "code",
      "execution_count": null,
      "metadata": {
        "id": "pxzLpE6musyb"
      },
      "outputs": [],
      "source": [
        "x,y = df_casas.drop(['precio','ventaoalquiler','ciudad_casa','ubicacion','unidadterreno','descripespecif'], axis=1), df_casas['precio']"
      ]
    },
    {
      "cell_type": "code",
      "execution_count": null,
      "metadata": {},
      "outputs": [],
      "source": [
        "from sklearn.model_selection import train_test_split\n",
        "x_train, x_test, y_train, y_test = train_test_split(x,y, test_size=0.15, random_state=42)\n",
        "\n"
      ]
    },
    {
      "cell_type": "code",
      "execution_count": null,
      "metadata": {},
      "outputs": [],
      "source": [
        "from sklearn.compose import make_column_transformer\n",
        "from sklearn.preprocessing import OneHotEncoder\n",
        "\n",
        "categorias = ['zona','descripespecif']\n",
        "numerical_features = ['habitaciones','banos','area','parqueaderos','estrato','tiempodeconstruido','latitud','longitud']\n",
        "\n",
        "preprocessor = make_column_transformer(\n",
        "    (OneHotEncoder(drop='if_binary'), categorias),\n",
        "    remainder='passthrough',\n",
        "    verbose_feature_names_out=False)"
      ]
    },
    {
      "cell_type": "code",
      "execution_count": null,
      "metadata": {},
      "outputs": [],
      "source": [
        "from sklearn.pipeline import make_pipeline\n",
        "from sklearn.linear_model import Ridge\n",
        "from sklearn.compose import TransformedTargetRegressor\n",
        "import scipy as sp\n",
        "\n",
        "model = make_pipeline(\n",
        "    preprocessor,\n",
        "    TransformedTargetRegressor(\n",
        "        regressor=Ridge(alpha=0.1),\n",
        "        func=np.log10,\n",
        "        inverse_func=sp.special.exp10\n",
        "    )\n",
        ")"
      ]
    },
    {
      "cell_type": "code",
      "execution_count": null,
      "metadata": {},
      "outputs": [],
      "source": [
        "model.fit(x_train, y_train)"
      ]
    },
    {
      "cell_type": "code",
      "execution_count": null,
      "metadata": {},
      "outputs": [],
      "source": [
        "from sklearn.metrics import mean_squared_error, mean_absolute_error, r2_score\n",
        "\n",
        "y_pred = model.predict(x_train)\n",
        "\n",
        "mae = mean_absolute_error(y_train, y_pred)\n",
        "string_score = f'MAE en train: {mae:.2f}'  \n",
        "y_pred = model.predict(x_test)\n",
        "mae = mean_absolute_error(y_test, y_pred)\n",
        "string_score += f'\\nMAE en test: {mae:.2f}'\n",
        "\n"
      ]
    },
    {
      "cell_type": "code",
      "execution_count": null,
      "metadata": {},
      "outputs": [],
      "source": [
        "fig, ax = plt.subplots(figsize=(8, 8))\n",
        "plt.scatter(y_test, y_pred)\n",
        "ax.plot([0, 1], [0, 1], transform=ax.transAxes, ls=\"--\", c=\"red\")\n",
        "plt.text(500000000, 1000000000, string_score)\n",
        "plt.title('Ridge')\n",
        "plt.ylabel('Predicciones')\n",
        "plt.xlabel('Valores reales')"
      ]
    }
  ],
  "metadata": {
    "colab": {
      "provenance": []
    },
    "kernelspec": {
      "display_name": "Python 3",
      "name": "python3"
    },
    "language_info": {
      "name": "python"
    }
  },
  "nbformat": 4,
  "nbformat_minor": 0
}
